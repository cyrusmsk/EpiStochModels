{
 "metadata": {
  "language_info": {
   "codemirror_mode": {
    "name": "ipython",
    "version": 3
   },
   "file_extension": ".py",
   "mimetype": "text/x-python",
   "name": "python",
   "nbconvert_exporter": "python",
   "pygments_lexer": "ipython3",
   "version": 3
  },
  "orig_nbformat": 2
 },
 "nbformat": 4,
 "nbformat_minor": 2,
 "cells": [
  {
   "source": [
    "# A General CTMC solver\n",
    "EpiStochModels also provides a class to simulate any CTMC model you want, as long as you provide it with a transition matrix and propensity functions. So far this class is available for D programs, because of the impossibility of passing the propensity functions from Python into D. Nevertheless, We will demonstrate here how to use it:\n",
    "\n",
    "Let's use the SIRD model as an example. The corresponding ODE model is:\n",
    "\n",
    "\\begin{align}\n",
    "\\frac{dS}{dt} &= -\\beta S \\frac{I}{N}\\\\\n",
    "\\frac{dI}{dt} &= \\beta S \\frac{I}{N} -\\gamma I -\\mu I\\\\\n",
    "\\frac{dR}{dt} &= \\gamma I\\\\\n",
    "\\frac{dD}{dt} &= \\mu I\n",
    "\\end{align}\n",
    "\n",
    "For this model, the following events are possible:\n",
    "\n",
    "\n",
    "1. **Infection:** propensity: $\\beta S \\frac{I}{N}$\n",
    "1. **Recovery:** propensity: $\\gamma I$\n",
    "1. **Death:** propensity: $\\mu I$\n",
    "\n",
    "The following transition matrix describe the changes in the state of the system when these events happen:\n",
    "\n",
    "TM = \\begin{bmatrix}\n",
    "-1 & 1 & 0 & 0\\\\\n",
    "0 & -1 & 1 & 0\\\\\n",
    "0 & -1 & 0 & 1\n",
    "\\end{bmatrix}.\n",
    "\n",
    "The D code required to implement this model is:\n",
    "\n",
    "```D\n",
    "int[][] tmat = [[-1,1,0,0],\n",
    "                    [0,-1,1,0], \n",
    "                    [0,-1,0,1]];\n",
    "double[string] pars = [\n",
    "    \"beta\": 0.3,\n",
    "    \"gam\": 0.05,\n",
    "    \"mu\": 0.01\n",
    "];\n",
    "alias double delegate(int[], double[string]) dy;\n",
    "dy[] props = [\n",
    "    (v,p)=> p[\"beta\"]*v[0]*v[1]/sum(v[0..$-1]), // infection\n",
    "    (v,p)=> p[\"gam\"]*v[1], // recovery\n",
    "    (v,p)=> p[\"mu\"]*v[1] // death\n",
    "    ];\n",
    "CTMC model = new CTMC(tmat, props);\n",
    "model.initialize([995,5,0,0],pars);\n",
    "auto res = model.run(0, 1000);\n",
    "```"
   ],
   "cell_type": "markdown",
   "metadata": {}
  },
  {
   "cell_type": "code",
   "execution_count": null,
   "metadata": {},
   "outputs": [],
   "source": []
  }
 ]
}